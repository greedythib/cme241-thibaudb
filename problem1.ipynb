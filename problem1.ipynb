{
 "cells": [
  {
   "cell_type": "markdown",
   "metadata": {},
   "source": [
    "# Problem 1 : Merton's portfolio"
   ]
  },
  {
   "cell_type": "markdown",
   "metadata": {},
   "source": [
    " ### Continuous time finite state space\n",
    "- State : $(t,W_{t})$ with $t \\in [0,T]$\n",
    "- Action : $(\\pi_{t}, c_{t})$ with $c_{t} \\in [0,W_{t}]$\n",
    "- Reward per unit time :  $U(c_t) = \\frac{c_t^{1-\\gamma}}{1-\\gamma}$ for $t <T$, and $\\frac{B(T) W_T^{1-\\gamma}}{1-\\gamma}$ with $B(\\cdot)$ the bequest function.\n",
    "- Discount factor : $\\rho$\n",
    "- Return: accumulated discounted Reward : \n",
    "    $$\\boxed{V(t,W_t) = \\mathbb{E}[\\int_{t}^T \\frac{e^{-\\rho(s-t)}c_s^{1-\\gamma}}{1-\\gamma} ds +\\frac{e^{-\\rho (T-t)} B(T) W_T^{1-\\gamma}}{1-\\gamma}|W_t]}$$. \n",
    "- Obj: Find Policy $(t,W_t) \\rightarrow [\\pi_t , c_t]$ that maximizes the Expected Return : \n",
    "    $$V^{\\ast}(t,W_t) = \\max_{\\pi_t, c_t}\\mathbb{E}[\\int_{t}^T \\frac{e^{-\\rho s}  c_s^{1-\\gamma}}{1-\\gamma} ds +\\frac{e^{-\\rho T} B(T) W_T^{1-\\gamma}}{1-\\gamma}|W_t]$$\n",
    "- Bellman Equation:,\n",
    "    $$V^{\\ast}(t,W_t) = \\max_{\\pi_t, c_t}\\mathbb{E}[\\int_{t}^{t_1} \\frac{e^{-\\rho s} c_s^{1-\\gamma}}{1-\\gamma} ds +V^{\\ast}(t_1,W_{t_1})]$$,\n",
    "    i.e.\n",
    "   $$0 = \\max_{\\pi_t, c_t}\\mathbb{E}[dV^{\\ast}(t,W_t) + \\frac{e^{-\\rho t} c_t^{1-\\gamma}}{1-\\gamma}]$$,\n",
    "    i.e.\n",
    "    $$\\max_{\\pi_t, c_t}\\Phi(t,W_t; \\pi_t, c_t) = 0$$\n",
    "    which leads to (two partial derivatives + function = 0):\n",
    "    $$\\pi_t^{\\ast} = \\frac{\\mu-r}{\\sigma^2 \\gamma}$$\n",
    "    $$c_t^{\\ast} = \\frac{\\nu W_t}{1+ (\\nu \\epsilon -1) e^{-\\nu(T-t)}}, \\nu \\neq 0$$\n",
    "    $$c_t^{\\ast} = \\frac{W_t}{T-t+\\epsilon}, \\nu = 0$$\n",
    "    $$\\nu = \\frac{\\rho - (1-\\gamma)(\\frac{(\\mu-r)^2}{2\\sigma^2 \\gamma}) + r}{\\gamma}$$"
   ]
  },
  {
   "cell_type": "markdown",
   "metadata": {},
   "source": [
    " ### Discrete time finite state space\n",
    "- The State $(t,\\bar{W}_t)$\n",
    "- Discrete time, $t =[0,1,2,...,T]$\n",
    "- Discrete wealth, $\\bar{W}_t = round(W_t, 0.001) | W_0 = 1$, where $W_t$ is the real wealth,\n",
    "    $\\bar{W}_t = [0,0.001,0.002,...,10]$\n",
    "- The Action $[\\pi_t , c_t], \\pi_t \\in [0,0.1,0.2,...1], c_t \\in [0,0.001,0.002,...W_t]$ (Note here I put constraint on $\\pi_t$)\n",
    " $$\\boxed{\\bar{W}_{t+1} = \\bar{W}_t + (1-\\pi_t)R^{rf} + \\pi_t R^{s}_t - c_t;\\quad  W_0 = 1}$$\n",
    " where $R^{rf}$ $R^{s}_t$ are discrete numbers $n*0.01$, $n \\in \\mathbb{N}$,\n",
    "- Reward per unit time :  $U(c_t) = \\frac{c_t^{1-\\gamma}}{1-\\gamma}$ for $t <T$, and $\\frac{B(T) W_T^{1-\\gamma}}{1-\\gamma}$\n",
    "- Discount factor: $\\rho$.\n",
    "- Return (accumulated discounted Reward) : \n",
    " $$\\boxed{V(t,W_t) = \\mathbb{E}[\\sum_{s =0}^{T-1}\\frac{c_s^{1-\\gamma}}{(1-\\gamma)(1+\\rho)^s} ds +\\frac{B(T) W_T^{1-\\gamma}}{(1-\\gamma)(1+\\rho)^T}|W_t]}$$\n",
    "- Goal: Find Policy $(t,W_t) \\rightarrow [\\pi_t , c_t]$ that maximizes the Expected Return."
   ]
  },
  {
   "cell_type": "code",
   "execution_count": 21,
   "metadata": {},
   "outputs": [],
   "source": [
    "# Import modules and packages\n",
    "import matplotlib.pyplot as plt\n",
    "import numpy as np\n",
    "import random\n"
   ]
  },
  {
   "cell_type": "markdown",
   "metadata": {},
   "source": [
    "We discretize $[0,1]$ such that :  $t_{i} = \\frac{i}{T}$ for $i \\in \\{0,\\dots,T\\}$"
   ]
  },
  {
   "cell_type": "code",
   "execution_count": 55,
   "metadata": {},
   "outputs": [],
   "source": [
    "# Parameters \n",
    "T = 100 \n",
    "step = 1/T\n",
    "time = np.array([i/T for i in range(T)], dtype = float)\n",
    "mu = 0\n",
    "sigma = 1 \n",
    "r = 1\n",
    "rho = 1\n",
    "gamma = 0.5\n",
    "epsilon = 0.001\n",
    "\n",
    "# Functions\n",
    "def bequel(t) : \n",
    "    return epsilon**gamma\n",
    "\n",
    "def utility(c,t) :\n",
    "    if t<T : \n",
    "        return c**(1-gamma)/(1-gamma)\n",
    "    else : \n",
    "        return B(T)*W_T**(1-gamma)/(1-gamma)\n",
    "    \n",
    "def riskless_asset(t) : \n",
    "    return np.exp(r*t)\n",
    "\n",
    "def risky_asset(t,B) : \n",
    "    return np.exp((mu - (sigma**2)/2)*t + sigma*B)\n",
    "    \n",
    "\n",
    "# Initialization \n",
    "W_0 = 1 "
   ]
  },
  {
   "cell_type": "markdown",
   "metadata": {},
   "source": [
    "In order to generate $\\hat{W}$, we first generate $B_{i+\\frac{1}{T}}-B_{i} \\sim \\mathcal{N}(0,\\frac{1}{T})$ so we can simulate $(B_{0}, \\ldots, B_{T})$."
   ]
  },
  {
   "cell_type": "code",
   "execution_count": 78,
   "metadata": {},
   "outputs": [
    {
     "data": {
      "image/png": "[encoded data removed]",
      "text/plain": [
       "<Figure size 432x288 with 1 Axes>"
      ]
     },
     "metadata": {
      "needs_background": "light"
     },
     "output_type": "display_data"
    }
   ],
   "source": [
    "# Generate Borwnian Motion\n",
    "delta_BM = np.random.normal(mu,step,100)\n",
    "B = np.cumsum(delta_BM) \n",
    "plt.plot(B)\n",
    "plt.show()"
   ]
  },
  {
   "cell_type": "code",
   "execution_count": 79,
   "metadata": {},
   "outputs": [],
   "source": [
    "# Generate Riskless Asset\n",
    "R = riskless_asset(time)\n",
    "\n",
    "# Generate Risky Asset\n",
    "S = risky_asset(time,B\n",
    "plt.plot(risky_asset(time,B))\n",
    "plt.show()\n",
    "\n",
    "# Generate wealth variable"
   ]
  }
 ],
 "metadata": {
  "kernelspec": {
   "display_name": "Python 3",
   "language": "python",
   "name": "python3"
  },
  "language_info": {
   "codemirror_mode": {
    "name": "ipython",
    "version": 3
   },
   "file_extension": ".py",
   "mimetype": "text/x-python",
   "name": "python",
   "nbconvert_exporter": "python",
   "pygments_lexer": "ipython3",
   "version": "3.7.4"
  }
 },
 "nbformat": 4,
 "nbformat_minor": 2
}
