{
 "cells": [
  {
   "cell_type": "markdown",
   "metadata": {},
   "source": [
    "## Application Problem 2 : Pricing and Hedging in Incomplete Markets"
   ]
  },
  {
   "cell_type": "markdown",
   "metadata": {},
   "source": [
    "### Black-Scholes formulas for European Call/Put Pricing\n",
    "- Underlying asset price\n",
    "$$S_t = \\mu S_t dt + \\sigma S_t dz_t$$ where $z_t$ is a Brownian motion. \n",
    "- Value of call option\n",
    "$$dC(S,t)= (\\mu S \\frac{dC}{dS} + \\frac{dC}{dt} + \\frac{1}{2} \\sigma^2 S^2 \\frac{d^2C}{dS^2})dt + \\sigma S \\frac{dC}{dS} dz$$\n",
    "- Replicate call option with cash ($x_t$ units) and underlying asset ($y_t$ units)\n",
    "$$P_t = x_t B_t + y_t S_t$$\n",
    "$$dP_t = (r x_t B_t + y_t \\mu S_t) dt + y_t \\sigma S_t d z_t$$\n",
    "- Match $dC(S,t)$ with $dP_t$\n",
    "$$y_t = \\frac{dC}{dS}$$\n",
    "$$r x_t B_t = \\frac{dC}{dt} + \\frac{1}{2} \\sigma^2 S^2 \\frac{d^2C}{dS^2}$$\n",
    "- Match $C_t$ with $P_t$\n",
    "$$r C_t = \\frac{dC}{dt} + \\frac{1}{2} \\sigma^2 S^2 \\frac{d^2C}{dS^2} + r \\frac{dC}{dS} S_t$$\n",
    "- Solve PDE with $C(S,T) = \\max \\{S-K, 0\\}$ and $C(0,t) = 0$\n",
    "$$C(S,t) = S_t \\Phi(d_1) - e^{-r(T-t)} K \\Phi(d_2)$$\n",
    "$$d_1 = \\frac{\\log(\\frac{S_t}{K}) + (r +\\sigma^2/2) (T-t)}{\\sqrt{T-t}}$$\n",
    "$$d_2 = d_1 -\\sigma \\sqrt{T-t}$$"
   ]
  },
  {
   "cell_type": "code",
   "execution_count": 1,
   "metadata": {},
   "outputs": [],
   "source": [
    "from code.option_pricing import * "
   ]
  },
  {
   "cell_type": "code",
   "execution_count": 3,
   "metadata": {},
   "outputs": [],
   "source": [
    "S_t, K, r, sigma, delta_t, num_steps = 21, 20, 0.1, 0.25, 0.2, 50\n",
    "bs = Black_Scholes(S_t, K, r, sigma, delta_t)\n",
    "bl = Binomial_lattice(S_t, K, r, sigma, delta_t, num_steps)"
   ]
  },
  {
   "cell_type": "code",
   "execution_count": 8,
   "metadata": {},
   "outputs": [
    {
     "name": "stdout",
     "output_type": "stream",
     "text": [
      "Call Pricing\n",
      "BS European Call Price :  1.7689254137361274\n",
      "Binomial Lattice :  1.7724880661245208\n",
      "--------------------------------------------------------------------------------\n",
      "Put Pricing\n",
      "BS European Call Price :  0.3728988798712338\n",
      "Binomial Lattice :  0.3764615322595367\n"
     ]
    }
   ],
   "source": [
    "print(\"Call Pricing\")\n",
    "\n",
    "print(\"BS European Call Price : \", bs.eur_call_price())\n",
    "print(\"Binomial Lattice : \", bl.eur_call_price())\n",
    "print(\"-\"*80)\n",
    "print(\"Put Pricing\")\n",
    "print(\"BS European Call Price : \", bs.eur_put_price())\n",
    "print(\"Binomial Lattice : \", bl.eur_put_price())"
   ]
  }
 ],
 "metadata": {
  "kernelspec": {
   "display_name": "Python 3",
   "language": "python",
   "name": "python3"
  },
  "language_info": {
   "codemirror_mode": {
    "name": "ipython",
    "version": 3
   },
   "file_extension": ".py",
   "mimetype": "text/x-python",
   "name": "python",
   "nbconvert_exporter": "python",
   "pygments_lexer": "ipython3",
   "version": "3.7.4"
  }
 },
 "nbformat": 4,
 "nbformat_minor": 2
}
