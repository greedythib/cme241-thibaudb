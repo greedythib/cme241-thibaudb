{
 "cells": [
  {
   "cell_type": "code",
   "execution_count": 1,
   "metadata": {},
   "outputs": [],
   "source": [
    "    data = {\n",
    "        1: {\n",
    "            'a': ({1: 0.3, 2: 0.6, 3: 0.1}, 5.0),\n",
    "            'b': ({2: 0.3, 3: 0.7}, 2.8),\n",
    "            'c': ({1: 0.2, 2: 0.4, 3: 0.4}, -7.2)\n",
    "        },\n",
    "        2: {\n",
    "            'a': ({1: 0.3, 2: 0.6, 3: 0.1}, 5.0),\n",
    "            'c': ({1: 0.2, 2: 0.4, 3: 0.4}, -7.2)\n",
    "        },\n",
    "        3: {\n",
    "            'a': ({3: 1.0}, 0.0),\n",
    "            'b': ({3: 1.0}, 0.0)\n",
    "        }\n",
    "    }"
   ]
  },
  {
   "cell_type": "code",
   "execution_count": null,
   "metadata": {},
   "outputs": [],
   "source": [
    "data"
   ]
  },
  {
   "cell_type": "code",
   "execution_count": null,
   "metadata": {},
   "outputs": [],
   "source": [
    " d = {k: v for k, v in data.items()}"
   ]
  },
  {
   "cell_type": "code",
   "execution_count": null,
   "metadata": {},
   "outputs": [],
   "source": [
    "for k,v in data.items() : \n",
    "    print(v)"
   ]
  },
  {
   "cell_type": "code",
   "execution_count": null,
   "metadata": {},
   "outputs": [],
   "source": [
    "for k,v in data.items() : \n",
    "    print(zip_dict_of_tuple(v))\n"
   ]
  },
  {
   "cell_type": "code",
   "execution_count": 2,
   "metadata": {},
   "outputs": [],
   "source": [
    "def zip_dict_of_tuple(d) : \n",
    "    d1 = {k:v1 for k,(v1,_) in d.items()}\n",
    "    d2 = {k:v2 for k,(_,v2) in d.items()}\n",
    "    return d1,d2"
   ]
  },
  {
   "cell_type": "code",
   "execution_count": 8,
   "metadata": {},
   "outputs": [],
   "source": [
    " d = {k: zip_dict_of_tuple(v) for k, v in data.items()}"
   ]
  },
  {
   "cell_type": "code",
   "execution_count": 9,
   "metadata": {},
   "outputs": [],
   "source": [
    "d1, d2 = zip_dict_of_tuple(d)"
   ]
  },
  {
   "cell_type": "code",
   "execution_count": 11,
   "metadata": {},
   "outputs": [
    {
     "data": {
      "text/plain": [
       "{1: {'a': 5.0, 'b': 2.8, 'c': -7.2},\n",
       " 2: {'a': 5.0, 'c': -7.2},\n",
       " 3: {'a': 0.0, 'b': 0.0}}"
      ]
     },
     "execution_count": 11,
     "metadata": {},
     "output_type": "execute_result"
    }
   ],
   "source": [
    "d2"
   ]
  },
  {
   "cell_type": "code",
   "execution_count": 12,
   "metadata": {},
   "outputs": [],
   "source": [
    "import numpy as np"
   ]
  },
  {
   "cell_type": "code",
   "execution_count": null,
   "metadata": {},
   "outputs": [],
   "source": [
    "A = np.numpy([10,100,1000,10000])"
   ]
  }
 ],
 "metadata": {
  "kernelspec": {
   "display_name": "Python 3",
   "language": "python",
   "name": "python3"
  },
  "language_info": {
   "codemirror_mode": {
    "name": "ipython",
    "version": 3
   },
   "file_extension": ".py",
   "mimetype": "text/x-python",
   "name": "python",
   "nbconvert_exporter": "python",
   "pygments_lexer": "ipython3",
   "version": "3.7.4"
  }
 },
 "nbformat": 4,
 "nbformat_minor": 2
}
