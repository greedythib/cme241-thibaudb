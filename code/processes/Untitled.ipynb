{
 "cells": [
  {
   "cell_type": "code",
   "execution_count": 1,
   "metadata": {},
   "outputs": [],
   "source": [
    "from mdp import MDP\n",
    "from policy import Policy "
   ]
  },
  {
   "cell_type": "code",
   "execution_count": 2,
   "metadata": {},
   "outputs": [],
   "source": [
    "    policy_data = {\n",
    "        \n",
    "            1: {'a': 0.4, 'b': 0.6},\n",
    "            2: {'a': 0.7, 'c': 0.3},\n",
    "            3: {'b': 1.0}\n",
    "    }\n",
    "    \n",
    "    data = {\n",
    "        1: {\n",
    "            'a': ({1: 0.3, 2: 0.6, 3: 0.1}, 5.0),\n",
    "            'b': ({2: 0.3, 3: 0.7}, 2.8),\n",
    "            'c': ({1: 0.2, 2: 0.4, 3: 0.4}, -7.2)\n",
    "        },\n",
    "        2: {\n",
    "            'a': ({1: 0.3, 2: 0.6, 3: 0.1}, 5.0),\n",
    "            'c': ({1: 0.2, 2: 0.4, 3: 0.4}, -7.2)\n",
    "        },\n",
    "        3: {\n",
    "            'a': ({3: 1.0}, 0.0),\n",
    "            'b': ({3: 1.0}, 0.0)\n",
    "        }\n",
    "    }\n",
    "    mdp_obj = MDP(data, 0.95)"
   ]
  },
  {
   "cell_type": "code",
   "execution_count": 3,
   "metadata": {},
   "outputs": [],
   "source": [
    "p = Policy(policy_data)\n",
    "a = mdp_obj.get_act_value_func_dict(p)"
   ]
  },
  {
   "cell_type": "code",
   "execution_count": 4,
   "metadata": {},
   "outputs": [
    {
     "data": {
      "text/plain": [
       "{1: {'a': 10.705515763120996, 'b': 4.645364793240535, 'c': -3.396322824586002},\n",
       " 2: {'a': 10.705515763120996, 'c': -3.396322824586002},\n",
       " 3: {'a': 0.0, 'b': 0.0}}"
      ]
     },
     "execution_count": 4,
     "metadata": {},
     "output_type": "execute_result"
    }
   ],
   "source": [
    "a"
   ]
  },
  {
   "cell_type": "code",
   "execution_count": 5,
   "metadata": {},
   "outputs": [
    {
     "data": {
      "text/plain": [
       "{1: 'a', 2: 'a', 3: 'a'}"
      ]
     },
     "execution_count": 5,
     "metadata": {},
     "output_type": "execute_result"
    }
   ],
   "source": [
    "from operator import itemgetter\n",
    "{s: max(v.items(), key=itemgetter(1))[0]\n",
    "                          for s, v in a.items()}"
   ]
  },
  {
   "cell_type": "code",
   "execution_count": 6,
   "metadata": {},
   "outputs": [],
   "source": [
    "from det_policy import DetPolicy"
   ]
  },
  {
   "cell_type": "code",
   "execution_count": 9,
   "metadata": {},
   "outputs": [],
   "source": [
    "a = DetPolicy({1: 'a', 2: 'a', 3: 'a'})"
   ]
  },
  {
   "cell_type": "code",
   "execution_count": 10,
   "metadata": {},
   "outputs": [
    {
     "data": {
      "text/plain": [
       "{1: {'a': 1.0}, 2: {'a': 1.0}, 3: {'a': 1.0}}"
      ]
     },
     "execution_count": 10,
     "metadata": {},
     "output_type": "execute_result"
    }
   ],
   "source": [
    "a.policy_data"
   ]
  },
  {
   "cell_type": "code",
   "execution_count": null,
   "metadata": {},
   "outputs": [],
   "source": []
  }
 ],
 "metadata": {
  "kernelspec": {
   "display_name": "Python 3",
   "language": "python",
   "name": "python3"
  },
  "language_info": {
   "codemirror_mode": {
    "name": "ipython",
    "version": 3
   },
   "file_extension": ".py",
   "mimetype": "text/x-python",
   "name": "python",
   "nbconvert_exporter": "python",
   "pygments_lexer": "ipython3",
   "version": "3.7.4"
  }
 },
 "nbformat": 4,
 "nbformat_minor": 2
}
